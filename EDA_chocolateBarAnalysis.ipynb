{
 "cells": [
  {
   "cell_type": "markdown",
   "metadata": {},
   "source": [
    "# Acknowlegement"
   ]
  },
  {
   "cell_type": "code",
   "execution_count": 1,
   "metadata": {},
   "outputs": [],
   "source": [
    "#Read before starting: https://towardsdatascience.com/sorry-online-courses-wont-make-you-a-data-scientist-8639d5f00889"
   ]
  },
  {
   "cell_type": "markdown",
   "metadata": {},
   "source": [
    "# Import necessary Libraries"
   ]
  },
  {
   "cell_type": "code",
   "execution_count": 3,
   "metadata": {},
   "outputs": [],
   "source": [
    "import pandas as pd\n",
    "import numpy as np\n",
    "import matplotlib.pyplot as plt\n",
    "import seaborn as sns"
   ]
  },
  {
   "cell_type": "markdown",
   "metadata": {},
   "source": [
    "# Reading data"
   ]
  },
  {
   "cell_type": "code",
   "execution_count": 4,
   "metadata": {},
   "outputs": [
    {
     "data": {
      "text/html": [
       "<div>\n",
       "<style scoped>\n",
       "    .dataframe tbody tr th:only-of-type {\n",
       "        vertical-align: middle;\n",
       "    }\n",
       "\n",
       "    .dataframe tbody tr th {\n",
       "        vertical-align: top;\n",
       "    }\n",
       "\n",
       "    .dataframe thead th {\n",
       "        text-align: right;\n",
       "    }\n",
       "</style>\n",
       "<table border=\"1\" class=\"dataframe\">\n",
       "  <thead>\n",
       "    <tr style=\"text-align: right;\">\n",
       "      <th></th>\n",
       "      <th>Company \\n(Maker-if known)</th>\n",
       "      <th>Specific Bean Origin\\nor Bar Name</th>\n",
       "      <th>REF</th>\n",
       "      <th>Review\\nDate</th>\n",
       "      <th>Cocoa\\nPercent</th>\n",
       "      <th>Company\\nLocation</th>\n",
       "      <th>Rating</th>\n",
       "      <th>Bean\\nType</th>\n",
       "      <th>Broad Bean\\nOrigin</th>\n",
       "    </tr>\n",
       "  </thead>\n",
       "  <tbody>\n",
       "    <tr>\n",
       "      <th>0</th>\n",
       "      <td>A. Morin</td>\n",
       "      <td>Agua Grande</td>\n",
       "      <td>1876</td>\n",
       "      <td>2016</td>\n",
       "      <td>63%</td>\n",
       "      <td>France</td>\n",
       "      <td>3.75</td>\n",
       "      <td></td>\n",
       "      <td>Sao Tome</td>\n",
       "    </tr>\n",
       "    <tr>\n",
       "      <th>1</th>\n",
       "      <td>A. Morin</td>\n",
       "      <td>Kpime</td>\n",
       "      <td>1676</td>\n",
       "      <td>2015</td>\n",
       "      <td>70%</td>\n",
       "      <td>France</td>\n",
       "      <td>2.75</td>\n",
       "      <td></td>\n",
       "      <td>Togo</td>\n",
       "    </tr>\n",
       "    <tr>\n",
       "      <th>2</th>\n",
       "      <td>A. Morin</td>\n",
       "      <td>Atsane</td>\n",
       "      <td>1676</td>\n",
       "      <td>2015</td>\n",
       "      <td>70%</td>\n",
       "      <td>France</td>\n",
       "      <td>3.00</td>\n",
       "      <td></td>\n",
       "      <td>Togo</td>\n",
       "    </tr>\n",
       "    <tr>\n",
       "      <th>3</th>\n",
       "      <td>A. Morin</td>\n",
       "      <td>Akata</td>\n",
       "      <td>1680</td>\n",
       "      <td>2015</td>\n",
       "      <td>70%</td>\n",
       "      <td>France</td>\n",
       "      <td>3.50</td>\n",
       "      <td></td>\n",
       "      <td>Togo</td>\n",
       "    </tr>\n",
       "    <tr>\n",
       "      <th>4</th>\n",
       "      <td>A. Morin</td>\n",
       "      <td>Quilla</td>\n",
       "      <td>1704</td>\n",
       "      <td>2015</td>\n",
       "      <td>70%</td>\n",
       "      <td>France</td>\n",
       "      <td>3.50</td>\n",
       "      <td></td>\n",
       "      <td>Peru</td>\n",
       "    </tr>\n",
       "  </tbody>\n",
       "</table>\n",
       "</div>"
      ],
      "text/plain": [
       "  Company \\n(Maker-if known) Specific Bean Origin\\nor Bar Name   REF  \\\n",
       "0                   A. Morin                       Agua Grande  1876   \n",
       "1                   A. Morin                             Kpime  1676   \n",
       "2                   A. Morin                            Atsane  1676   \n",
       "3                   A. Morin                             Akata  1680   \n",
       "4                   A. Morin                            Quilla  1704   \n",
       "\n",
       "   Review\\nDate Cocoa\\nPercent Company\\nLocation  Rating Bean\\nType  \\\n",
       "0          2016            63%            France    3.75              \n",
       "1          2015            70%            France    2.75              \n",
       "2          2015            70%            France    3.00              \n",
       "3          2015            70%            France    3.50              \n",
       "4          2015            70%            France    3.50              \n",
       "\n",
       "  Broad Bean\\nOrigin  \n",
       "0           Sao Tome  \n",
       "1               Togo  \n",
       "2               Togo  \n",
       "3               Togo  \n",
       "4               Peru  "
      ]
     },
     "execution_count": 4,
     "metadata": {},
     "output_type": "execute_result"
    }
   ],
   "source": [
    "df=pd.read_csv('C:/Users/Jay/Desktop/Python/Projects/ChocolateBarAnalysis/Chocolate-Bar-Analysis-master/Chocolate-Bar-Analysis-master/Dataset/flavors_of_cacao.csv')\n",
    "\n",
    "df.head()"
   ]
  },
  {
   "cell_type": "markdown",
   "metadata": {},
   "source": [
    "# Cleaning data"
   ]
  },
  {
   "cell_type": "markdown",
   "metadata": {},
   "source": [
    "## Rename Columns"
   ]
  },
  {
   "cell_type": "code",
   "execution_count": 5,
   "metadata": {},
   "outputs": [],
   "source": [
    "df.columns\n",
    "\n",
    "#col names have \\n character which can be removed\n",
    "\n",
    "#update index name/col name: https://note.nkmk.me/en/python-pandas-dataframe-rename/\n",
    "\n",
    "df.rename(columns=lambda s: s.replace('\\n',''), inplace=True)\n",
    "df.columns\n",
    "\n",
    "#Hard coding company \n",
    "df=df.rename(columns={'Company\\xa0(Maker-if known)': 'Company'})"
   ]
  },
  {
   "cell_type": "markdown",
   "metadata": {},
   "source": [
    "## Checking missing values"
   ]
  },
  {
   "cell_type": "code",
   "execution_count": 6,
   "metadata": {},
   "outputs": [
    {
     "data": {
      "text/html": [
       "<div>\n",
       "<style scoped>\n",
       "    .dataframe tbody tr th:only-of-type {\n",
       "        vertical-align: middle;\n",
       "    }\n",
       "\n",
       "    .dataframe tbody tr th {\n",
       "        vertical-align: top;\n",
       "    }\n",
       "\n",
       "    .dataframe thead th {\n",
       "        text-align: right;\n",
       "    }\n",
       "</style>\n",
       "<table border=\"1\" class=\"dataframe\">\n",
       "  <thead>\n",
       "    <tr style=\"text-align: right;\">\n",
       "      <th></th>\n",
       "      <th>Company</th>\n",
       "      <th>Specific Bean Originor Bar Name</th>\n",
       "      <th>REF</th>\n",
       "      <th>ReviewDate</th>\n",
       "      <th>CocoaPercent</th>\n",
       "      <th>CompanyLocation</th>\n",
       "      <th>Rating</th>\n",
       "      <th>BeanType</th>\n",
       "      <th>Broad BeanOrigin</th>\n",
       "    </tr>\n",
       "  </thead>\n",
       "  <tbody>\n",
       "    <tr>\n",
       "      <th>0</th>\n",
       "      <td>A. Morin</td>\n",
       "      <td>Agua Grande</td>\n",
       "      <td>1876</td>\n",
       "      <td>2016</td>\n",
       "      <td>0.63</td>\n",
       "      <td>France</td>\n",
       "      <td>3.75</td>\n",
       "      <td>None</td>\n",
       "      <td>Sao Tome</td>\n",
       "    </tr>\n",
       "    <tr>\n",
       "      <th>1</th>\n",
       "      <td>A. Morin</td>\n",
       "      <td>Kpime</td>\n",
       "      <td>1676</td>\n",
       "      <td>2015</td>\n",
       "      <td>0.70</td>\n",
       "      <td>France</td>\n",
       "      <td>2.75</td>\n",
       "      <td>None</td>\n",
       "      <td>Togo</td>\n",
       "    </tr>\n",
       "    <tr>\n",
       "      <th>2</th>\n",
       "      <td>A. Morin</td>\n",
       "      <td>Atsane</td>\n",
       "      <td>1676</td>\n",
       "      <td>2015</td>\n",
       "      <td>0.70</td>\n",
       "      <td>France</td>\n",
       "      <td>3.00</td>\n",
       "      <td>None</td>\n",
       "      <td>Togo</td>\n",
       "    </tr>\n",
       "    <tr>\n",
       "      <th>3</th>\n",
       "      <td>A. Morin</td>\n",
       "      <td>Akata</td>\n",
       "      <td>1680</td>\n",
       "      <td>2015</td>\n",
       "      <td>0.70</td>\n",
       "      <td>France</td>\n",
       "      <td>3.50</td>\n",
       "      <td>None</td>\n",
       "      <td>Togo</td>\n",
       "    </tr>\n",
       "    <tr>\n",
       "      <th>4</th>\n",
       "      <td>A. Morin</td>\n",
       "      <td>Quilla</td>\n",
       "      <td>1704</td>\n",
       "      <td>2015</td>\n",
       "      <td>0.70</td>\n",
       "      <td>France</td>\n",
       "      <td>3.50</td>\n",
       "      <td>None</td>\n",
       "      <td>Peru</td>\n",
       "    </tr>\n",
       "  </tbody>\n",
       "</table>\n",
       "</div>"
      ],
      "text/plain": [
       "    Company Specific Bean Originor Bar Name   REF  ReviewDate  CocoaPercent  \\\n",
       "0  A. Morin                     Agua Grande  1876        2016          0.63   \n",
       "1  A. Morin                           Kpime  1676        2015          0.70   \n",
       "2  A. Morin                          Atsane  1676        2015          0.70   \n",
       "3  A. Morin                           Akata  1680        2015          0.70   \n",
       "4  A. Morin                          Quilla  1704        2015          0.70   \n",
       "\n",
       "  CompanyLocation  Rating BeanType Broad BeanOrigin  \n",
       "0          France    3.75     None         Sao Tome  \n",
       "1          France    2.75     None             Togo  \n",
       "2          France    3.00     None             Togo  \n",
       "3          France    3.50     None             Togo  \n",
       "4          France    3.50     None             Peru  "
      ]
     },
     "execution_count": 6,
     "metadata": {},
     "output_type": "execute_result"
    }
   ],
   "source": [
    "df.head()\n",
    "\n",
    "df.isnull().sum()\n",
    "\n",
    "#only 2 cols have single missing values\n",
    "\n",
    "df['BeanType'].value_counts()\n",
    "\n",
    "#but on checking bean type we get to know that a lot of values are spaces. Updating that to None\n",
    "\n",
    "df['BeanType']=df['BeanType'].replace('','None')\n",
    "#this does not work as it is not merely spaces, the value is coded as 'xa0' which can be checked using below\n",
    "\n",
    "list(df['BeanType'][0:10])\n",
    "\n",
    "df['BeanType']=df['BeanType'].replace('\\xa0','None')\n",
    "\n",
    "df['BeanType'].value_counts()\n",
    "\n",
    "#dropping null value from both cols\n",
    "df.dropna(inplace=True)\n",
    "\n",
    "#Converting cocoa percent \n",
    "df['CocoaPercent']=df['CocoaPercent'].str.replace('%','').astype(float)/100\n",
    "\n",
    "df.head()"
   ]
  },
  {
   "cell_type": "markdown",
   "metadata": {},
   "source": [
    "# Plotting "
   ]
  },
  {
   "cell_type": "markdown",
   "metadata": {},
   "source": [
    "## Q1: The Effect of Time - How did the Quality of Chocolate change over the years?"
   ]
  },
  {
   "cell_type": "code",
   "execution_count": 6,
   "metadata": {},
   "outputs": [],
   "source": [
    "#relplot [relative plots] are used in seaborn to find the relation between 2 continuous variables \n",
    "#common relplots are scatter and line "
   ]
  },
  {
   "cell_type": "code",
   "execution_count": 7,
   "metadata": {},
   "outputs": [
    {
     "data": {
      "text/plain": [
       "Text(0.5, 1, 'Change in cocoa percent over time')"
      ]
     },
     "execution_count": 7,
     "metadata": {},
     "output_type": "execute_result"
    },
    {
     "data": {
      "image/png": "[encoded data removed]",
      "text/plain": [
       "<Figure size 882x504 with 1 Axes>"
      ]
     },
     "metadata": {
      "needs_background": "light"
     },
     "output_type": "display_data"
    }
   ],
   "source": [
    "#scatter plot does not help in gathering much info from the data \n",
    "sns.relplot(x='ReviewDate', y='CocoaPercent', data=df, kind='scatter',height=7, aspect=7/4)\n",
    "plt.title('Change in cocoa percent over time')"
   ]
  },
  {
   "cell_type": "code",
   "execution_count": 8,
   "metadata": {},
   "outputs": [
    {
     "data": {
      "text/plain": [
       "Text(0.5, 1, 'Change in cocoa percent over time')"
      ]
     },
     "execution_count": 8,
     "metadata": {},
     "output_type": "execute_result"
    },
    {
     "data": {
      "image/png": "[encoded data removed]",
      "text/plain": [
       "<Figure size 882x504 with 1 Axes>"
      ]
     },
     "metadata": {
      "needs_background": "light"
     },
     "output_type": "display_data"
    }
   ],
   "source": [
    "#thus, we use line plot for better understanding, each point of the line represents the mean of the cocoa percent value\n",
    "#for the respective year \n",
    "#ci represents the confidence intervals [default 95%] which can be removed by using ci=none \n",
    "sns.relplot(x='ReviewDate', y='CocoaPercent', data=df, kind='line',height=7, aspect=7/4, ci=None)\n",
    "plt.title('Change in cocoa percent over time')"
   ]
  },
  {
   "cell_type": "markdown",
   "metadata": {},
   "source": [
    "### Reading:\n",
    "\n",
    "1. Percentage was lowest in 2009 (approx 69%)\n",
    "2. It was highest in 2008 (approx 73%)\n",
    "3. After 2009, percentage was constantly increasing until 2014, after which there is a decline "
   ]
  },
  {
   "cell_type": "markdown",
   "metadata": {},
   "source": [
    "## Q2: How has rating changed over time ? "
   ]
  },
  {
   "cell_type": "code",
   "execution_count": 9,
   "metadata": {},
   "outputs": [
    {
     "data": {
      "text/plain": [
       "Text(0.5, 1, 'Change in rating over time')"
      ]
     },
     "execution_count": 9,
     "metadata": {},
     "output_type": "execute_result"
    },
    {
     "data": {
      "image/png": "[encoded data removed]",
      "text/plain": [
       "<Figure size 882x504 with 1 Axes>"
      ]
     },
     "metadata": {
      "needs_background": "light"
     },
     "output_type": "display_data"
    }
   ],
   "source": [
    "sns.relplot(x='ReviewDate', y='Rating', data=df, kind='line',height=7, aspect=7/4, ci=None)\n",
    "plt.title('Change in rating over time')"
   ]
  },
  {
   "cell_type": "markdown",
   "metadata": {},
   "source": [
    "### Reading:\n",
    "\n",
    "1. Rating was lowest in 2008 (less than 3)\n",
    "2. It was highest in 2016 (3.35)\n",
    "3. From 2011 to 2017 there have been many fluctuations in the rating "
   ]
  },
  {
   "cell_type": "markdown",
   "metadata": {},
   "source": [
    "## Q3: The best companies? "
   ]
  },
  {
   "cell_type": "code",
   "execution_count": 10,
   "metadata": {},
   "outputs": [
    {
     "data": {
      "text/html": [
       "<div>\n",
       "<style scoped>\n",
       "    .dataframe tbody tr th:only-of-type {\n",
       "        vertical-align: middle;\n",
       "    }\n",
       "\n",
       "    .dataframe tbody tr th {\n",
       "        vertical-align: top;\n",
       "    }\n",
       "\n",
       "    .dataframe thead th {\n",
       "        text-align: right;\n",
       "    }\n",
       "</style>\n",
       "<table border=\"1\" class=\"dataframe\">\n",
       "  <thead>\n",
       "    <tr style=\"text-align: right;\">\n",
       "      <th></th>\n",
       "      <th>Company</th>\n",
       "      <th>Specific Bean Originor Bar Name</th>\n",
       "      <th>REF</th>\n",
       "      <th>ReviewDate</th>\n",
       "      <th>CocoaPercent</th>\n",
       "      <th>CompanyLocation</th>\n",
       "      <th>Rating</th>\n",
       "      <th>BeanType</th>\n",
       "      <th>Broad BeanOrigin</th>\n",
       "    </tr>\n",
       "  </thead>\n",
       "  <tbody>\n",
       "    <tr>\n",
       "      <th>0</th>\n",
       "      <td>A. Morin</td>\n",
       "      <td>Agua Grande</td>\n",
       "      <td>1876</td>\n",
       "      <td>2016</td>\n",
       "      <td>0.63</td>\n",
       "      <td>France</td>\n",
       "      <td>3.75</td>\n",
       "      <td>None</td>\n",
       "      <td>Sao Tome</td>\n",
       "    </tr>\n",
       "    <tr>\n",
       "      <th>1</th>\n",
       "      <td>A. Morin</td>\n",
       "      <td>Kpime</td>\n",
       "      <td>1676</td>\n",
       "      <td>2015</td>\n",
       "      <td>0.70</td>\n",
       "      <td>France</td>\n",
       "      <td>2.75</td>\n",
       "      <td>None</td>\n",
       "      <td>Togo</td>\n",
       "    </tr>\n",
       "    <tr>\n",
       "      <th>2</th>\n",
       "      <td>A. Morin</td>\n",
       "      <td>Atsane</td>\n",
       "      <td>1676</td>\n",
       "      <td>2015</td>\n",
       "      <td>0.70</td>\n",
       "      <td>France</td>\n",
       "      <td>3.00</td>\n",
       "      <td>None</td>\n",
       "      <td>Togo</td>\n",
       "    </tr>\n",
       "    <tr>\n",
       "      <th>3</th>\n",
       "      <td>A. Morin</td>\n",
       "      <td>Akata</td>\n",
       "      <td>1680</td>\n",
       "      <td>2015</td>\n",
       "      <td>0.70</td>\n",
       "      <td>France</td>\n",
       "      <td>3.50</td>\n",
       "      <td>None</td>\n",
       "      <td>Togo</td>\n",
       "    </tr>\n",
       "    <tr>\n",
       "      <th>4</th>\n",
       "      <td>A. Morin</td>\n",
       "      <td>Quilla</td>\n",
       "      <td>1704</td>\n",
       "      <td>2015</td>\n",
       "      <td>0.70</td>\n",
       "      <td>France</td>\n",
       "      <td>3.50</td>\n",
       "      <td>None</td>\n",
       "      <td>Peru</td>\n",
       "    </tr>\n",
       "  </tbody>\n",
       "</table>\n",
       "</div>"
      ],
      "text/plain": [
       "    Company Specific Bean Originor Bar Name   REF  ReviewDate  CocoaPercent  \\\n",
       "0  A. Morin                     Agua Grande  1876        2016          0.63   \n",
       "1  A. Morin                           Kpime  1676        2015          0.70   \n",
       "2  A. Morin                          Atsane  1676        2015          0.70   \n",
       "3  A. Morin                           Akata  1680        2015          0.70   \n",
       "4  A. Morin                          Quilla  1704        2015          0.70   \n",
       "\n",
       "  CompanyLocation  Rating BeanType Broad BeanOrigin  \n",
       "0          France    3.75     None         Sao Tome  \n",
       "1          France    2.75     None             Togo  \n",
       "2          France    3.00     None             Togo  \n",
       "3          France    3.50     None             Togo  \n",
       "4          France    3.50     None             Peru  "
      ]
     },
     "execution_count": 10,
     "metadata": {},
     "output_type": "execute_result"
    }
   ],
   "source": [
    "df.head()"
   ]
  },
  {
   "cell_type": "code",
   "execution_count": 11,
   "metadata": {},
   "outputs": [
    {
     "data": {
      "text/html": [
       "<div>\n",
       "<style scoped>\n",
       "    .dataframe tbody tr th:only-of-type {\n",
       "        vertical-align: middle;\n",
       "    }\n",
       "\n",
       "    .dataframe tbody tr th {\n",
       "        vertical-align: top;\n",
       "    }\n",
       "\n",
       "    .dataframe thead th {\n",
       "        text-align: right;\n",
       "    }\n",
       "</style>\n",
       "<table border=\"1\" class=\"dataframe\">\n",
       "  <thead>\n",
       "    <tr style=\"text-align: right;\">\n",
       "      <th></th>\n",
       "      <th>Rating</th>\n",
       "      <th>Company</th>\n",
       "    </tr>\n",
       "  </thead>\n",
       "  <tbody>\n",
       "    <tr>\n",
       "      <th>1</th>\n",
       "      <td>4.000000</td>\n",
       "      <td>Tobago Estate (Pralus)</td>\n",
       "    </tr>\n",
       "    <tr>\n",
       "      <th>2</th>\n",
       "      <td>3.875000</td>\n",
       "      <td>Heirloom Cacao Preservation (Zokoko)</td>\n",
       "    </tr>\n",
       "    <tr>\n",
       "      <th>3</th>\n",
       "      <td>3.875000</td>\n",
       "      <td>Ocelot</td>\n",
       "    </tr>\n",
       "    <tr>\n",
       "      <th>4</th>\n",
       "      <td>3.846154</td>\n",
       "      <td>Amedei</td>\n",
       "    </tr>\n",
       "    <tr>\n",
       "      <th>5</th>\n",
       "      <td>3.812500</td>\n",
       "      <td>Matale</td>\n",
       "    </tr>\n",
       "  </tbody>\n",
       "</table>\n",
       "</div>"
      ],
      "text/plain": [
       "     Rating                               Company\n",
       "1  4.000000                Tobago Estate (Pralus)\n",
       "2  3.875000  Heirloom Cacao Preservation (Zokoko)\n",
       "3  3.875000                                Ocelot\n",
       "4  3.846154                                Amedei\n",
       "5  3.812500                                Matale"
      ]
     },
     "execution_count": 11,
     "metadata": {},
     "output_type": "execute_result"
    }
   ],
   "source": [
    "#the understanding is - the best company will have best ratings\n",
    "\n",
    "d1=pd.DataFrame(df.groupby(['Company']).Rating.mean().sort_values(ascending=False).head())\n",
    "\n",
    "s=pd.Series([1,2,3,4,5])\n",
    "d1.set_index(s, inplace=True)\n",
    "d1.index\n",
    "\n",
    "d1['Company']=['Tobago Estate (Pralus)', 'Heirloom Cacao Preservation (Zokoko)',\n",
    "       'Ocelot', 'Amedei', 'Matale']\n",
    "d1"
   ]
  },
  {
   "cell_type": "code",
   "execution_count": 12,
   "metadata": {},
   "outputs": [
    {
     "data": {
      "text/plain": [
       "([0, 1, 2, 3, 4], <a list of 5 Text xticklabel objects>)"
      ]
     },
     "execution_count": 12,
     "metadata": {},
     "output_type": "execute_result"
    },
    {
     "data": {
      "image/png": "[encoded data removed]",
      "text/plain": [
       "<Figure size 360x360 with 1 Axes>"
      ]
     },
     "metadata": {
      "needs_background": "light"
     },
     "output_type": "display_data"
    }
   ],
   "source": [
    "sns.relplot(x='Company', y='Rating', data=d1, kind='line')\n",
    "plt.xticks(rotation=90)"
   ]
  },
  {
   "cell_type": "markdown",
   "metadata": {},
   "source": [
    "### Reading:\n",
    "\n",
    "1. Max rating of 4 is for Tobago Estate\n",
    "2. HCP (Zokoko) and Ocelot have the smae rating of 3.87\n",
    "3. Top5 ratings vary from 3.81 to 4 with a very small difference between them"
   ]
  },
  {
   "cell_type": "markdown",
   "metadata": {},
   "source": [
    "## Check data according to company location "
   ]
  },
  {
   "cell_type": "code",
   "execution_count": 13,
   "metadata": {},
   "outputs": [
    {
     "data": {
      "text/html": [
       "<div>\n",
       "<style scoped>\n",
       "    .dataframe tbody tr th:only-of-type {\n",
       "        vertical-align: middle;\n",
       "    }\n",
       "\n",
       "    .dataframe tbody tr th {\n",
       "        vertical-align: top;\n",
       "    }\n",
       "\n",
       "    .dataframe thead th {\n",
       "        text-align: right;\n",
       "    }\n",
       "</style>\n",
       "<table border=\"1\" class=\"dataframe\">\n",
       "  <thead>\n",
       "    <tr style=\"text-align: right;\">\n",
       "      <th></th>\n",
       "      <th>CompanyLocation</th>\n",
       "      <th>CocoaPercent</th>\n",
       "      <th>REF</th>\n",
       "      <th>Rating</th>\n",
       "      <th>ReviewDate</th>\n",
       "    </tr>\n",
       "  </thead>\n",
       "  <tbody>\n",
       "    <tr>\n",
       "      <th>0</th>\n",
       "      <td>Chile</td>\n",
       "      <td>0.700000</td>\n",
       "      <td>1638.000000</td>\n",
       "      <td>3.750000</td>\n",
       "      <td>2015.000000</td>\n",
       "    </tr>\n",
       "    <tr>\n",
       "      <th>1</th>\n",
       "      <td>Amsterdam</td>\n",
       "      <td>0.732500</td>\n",
       "      <td>1569.500000</td>\n",
       "      <td>3.500000</td>\n",
       "      <td>2015.000000</td>\n",
       "    </tr>\n",
       "    <tr>\n",
       "      <th>2</th>\n",
       "      <td>Netherlands</td>\n",
       "      <td>0.700000</td>\n",
       "      <td>1944.000000</td>\n",
       "      <td>3.500000</td>\n",
       "      <td>2017.000000</td>\n",
       "    </tr>\n",
       "    <tr>\n",
       "      <th>3</th>\n",
       "      <td>Philippines</td>\n",
       "      <td>0.650000</td>\n",
       "      <td>1121.000000</td>\n",
       "      <td>3.500000</td>\n",
       "      <td>2013.000000</td>\n",
       "    </tr>\n",
       "    <tr>\n",
       "      <th>4</th>\n",
       "      <td>Iceland</td>\n",
       "      <td>0.686667</td>\n",
       "      <td>1436.666667</td>\n",
       "      <td>3.416667</td>\n",
       "      <td>2014.666667</td>\n",
       "    </tr>\n",
       "    <tr>\n",
       "      <th>5</th>\n",
       "      <td>Vietnam</td>\n",
       "      <td>0.745455</td>\n",
       "      <td>1097.636364</td>\n",
       "      <td>3.409091</td>\n",
       "      <td>2012.818182</td>\n",
       "    </tr>\n",
       "    <tr>\n",
       "      <th>6</th>\n",
       "      <td>Brazil</td>\n",
       "      <td>0.698235</td>\n",
       "      <td>1100.470588</td>\n",
       "      <td>3.397059</td>\n",
       "      <td>2012.823529</td>\n",
       "    </tr>\n",
       "    <tr>\n",
       "      <th>7</th>\n",
       "      <td>Poland</td>\n",
       "      <td>0.718750</td>\n",
       "      <td>1213.750000</td>\n",
       "      <td>3.375000</td>\n",
       "      <td>2013.500000</td>\n",
       "    </tr>\n",
       "    <tr>\n",
       "      <th>8</th>\n",
       "      <td>Australia</td>\n",
       "      <td>0.702245</td>\n",
       "      <td>1378.448980</td>\n",
       "      <td>3.357143</td>\n",
       "      <td>2014.040816</td>\n",
       "    </tr>\n",
       "    <tr>\n",
       "      <th>9</th>\n",
       "      <td>Guatemala</td>\n",
       "      <td>0.702000</td>\n",
       "      <td>813.900000</td>\n",
       "      <td>3.350000</td>\n",
       "      <td>2011.300000</td>\n",
       "    </tr>\n",
       "    <tr>\n",
       "      <th>10</th>\n",
       "      <td>Switzerland</td>\n",
       "      <td>0.712105</td>\n",
       "      <td>585.052632</td>\n",
       "      <td>3.342105</td>\n",
       "      <td>2010.052632</td>\n",
       "    </tr>\n",
       "    <tr>\n",
       "      <th>11</th>\n",
       "      <td>Singapore</td>\n",
       "      <td>0.706667</td>\n",
       "      <td>1774.666667</td>\n",
       "      <td>3.333333</td>\n",
       "      <td>2016.000000</td>\n",
       "    </tr>\n",
       "    <tr>\n",
       "      <th>12</th>\n",
       "      <td>Italy</td>\n",
       "      <td>0.711905</td>\n",
       "      <td>505.809524</td>\n",
       "      <td>3.325397</td>\n",
       "      <td>2009.269841</td>\n",
       "    </tr>\n",
       "    <tr>\n",
       "      <th>13</th>\n",
       "      <td>Scotland</td>\n",
       "      <td>0.730000</td>\n",
       "      <td>1204.400000</td>\n",
       "      <td>3.325000</td>\n",
       "      <td>2013.300000</td>\n",
       "    </tr>\n",
       "    <tr>\n",
       "      <th>14</th>\n",
       "      <td>Canada</td>\n",
       "      <td>0.723710</td>\n",
       "      <td>1243.072581</td>\n",
       "      <td>3.318548</td>\n",
       "      <td>2013.564516</td>\n",
       "    </tr>\n",
       "  </tbody>\n",
       "</table>\n",
       "</div>"
      ],
      "text/plain": [
       "   CompanyLocation  CocoaPercent          REF    Rating   ReviewDate\n",
       "0            Chile      0.700000  1638.000000  3.750000  2015.000000\n",
       "1        Amsterdam      0.732500  1569.500000  3.500000  2015.000000\n",
       "2      Netherlands      0.700000  1944.000000  3.500000  2017.000000\n",
       "3      Philippines      0.650000  1121.000000  3.500000  2013.000000\n",
       "4          Iceland      0.686667  1436.666667  3.416667  2014.666667\n",
       "5          Vietnam      0.745455  1097.636364  3.409091  2012.818182\n",
       "6           Brazil      0.698235  1100.470588  3.397059  2012.823529\n",
       "7           Poland      0.718750  1213.750000  3.375000  2013.500000\n",
       "8        Australia      0.702245  1378.448980  3.357143  2014.040816\n",
       "9        Guatemala      0.702000   813.900000  3.350000  2011.300000\n",
       "10     Switzerland      0.712105   585.052632  3.342105  2010.052632\n",
       "11       Singapore      0.706667  1774.666667  3.333333  2016.000000\n",
       "12           Italy      0.711905   505.809524  3.325397  2009.269841\n",
       "13        Scotland      0.730000  1204.400000  3.325000  2013.300000\n",
       "14          Canada      0.723710  1243.072581  3.318548  2013.564516"
      ]
     },
     "execution_count": 13,
     "metadata": {},
     "output_type": "execute_result"
    }
   ],
   "source": [
    "d1=df.pivot_table(df, index='CompanyLocation').sort_values(by='Rating',ascending=False).head(15)\n",
    "d1.reset_index(inplace=True)\n",
    "d1"
   ]
  },
  {
   "cell_type": "code",
   "execution_count": 14,
   "metadata": {},
   "outputs": [
    {
     "data": {
      "text/plain": [
       "(array([ 0,  1,  2,  3,  4,  5,  6,  7,  8,  9, 10, 11, 12, 13, 14]),\n",
       " <a list of 15 Text xticklabel objects>)"
      ]
     },
     "execution_count": 14,
     "metadata": {},
     "output_type": "execute_result"
    },
    {
     "data": {
      "image/png": "[encoded data removed]",
      "text/plain": [
       "<Figure size 360x360 with 1 Axes>"
      ]
     },
     "metadata": {
      "needs_background": "light"
     },
     "output_type": "display_data"
    }
   ],
   "source": [
    "sns.catplot(x='CompanyLocation', y='Rating', data=d1, kind='bar')\n",
    "plt.xticks(rotation=90)"
   ]
  },
  {
   "cell_type": "markdown",
   "metadata": {},
   "source": [
    "### Reading:\n",
    "\n",
    "    1. The highest cocoa concentration is for Vietnam and the lowest for Phillipines which differ by a small margin\n",
    "    2. The highest rated chocolate is present in Chile"
   ]
  },
  {
   "cell_type": "markdown",
   "metadata": {},
   "source": [
    "## Checking data for one company: Soma"
   ]
  },
  {
   "cell_type": "code",
   "execution_count": 15,
   "metadata": {},
   "outputs": [
    {
     "data": {
      "text/plain": [
       "Soma         46\n",
       "Bonnat       27\n",
       "Fresco       26\n",
       "Pralus       25\n",
       "A. Morin     23\n",
       "             ..\n",
       "Shattell      1\n",
       "Heilemann     1\n",
       "Durand        1\n",
       "Nanea         1\n",
       "Chocosol      1\n",
       "Name: Company, Length: 416, dtype: int64"
      ]
     },
     "execution_count": 15,
     "metadata": {},
     "output_type": "execute_result"
    }
   ],
   "source": [
    "df['Company'].value_counts()"
   ]
  },
  {
   "cell_type": "code",
   "execution_count": 16,
   "metadata": {},
   "outputs": [
    {
     "data": {
      "text/html": [
       "<div>\n",
       "<style scoped>\n",
       "    .dataframe tbody tr th:only-of-type {\n",
       "        vertical-align: middle;\n",
       "    }\n",
       "\n",
       "    .dataframe tbody tr th {\n",
       "        vertical-align: top;\n",
       "    }\n",
       "\n",
       "    .dataframe thead th {\n",
       "        text-align: right;\n",
       "    }\n",
       "</style>\n",
       "<table border=\"1\" class=\"dataframe\">\n",
       "  <thead>\n",
       "    <tr style=\"text-align: right;\">\n",
       "      <th></th>\n",
       "      <th>Company</th>\n",
       "      <th>Specific Bean Originor Bar Name</th>\n",
       "      <th>REF</th>\n",
       "      <th>ReviewDate</th>\n",
       "      <th>CocoaPercent</th>\n",
       "      <th>CompanyLocation</th>\n",
       "      <th>Rating</th>\n",
       "      <th>BeanType</th>\n",
       "      <th>Broad BeanOrigin</th>\n",
       "    </tr>\n",
       "  </thead>\n",
       "  <tbody>\n",
       "    <tr>\n",
       "      <th>1507</th>\n",
       "      <td>Soma</td>\n",
       "      <td>Oko Caribe, Duarte P., Collab w Chocosol</td>\n",
       "      <td>1820</td>\n",
       "      <td>2016</td>\n",
       "      <td>0.62</td>\n",
       "      <td>Canada</td>\n",
       "      <td>3.50</td>\n",
       "      <td>None</td>\n",
       "      <td>Domincan Republic</td>\n",
       "    </tr>\n",
       "    <tr>\n",
       "      <th>1508</th>\n",
       "      <td>Soma</td>\n",
       "      <td>Sambirano Valley, Black Science, B-60307.0</td>\n",
       "      <td>1820</td>\n",
       "      <td>2016</td>\n",
       "      <td>0.70</td>\n",
       "      <td>Canada</td>\n",
       "      <td>3.50</td>\n",
       "      <td>Trinitario</td>\n",
       "      <td>Madagascar</td>\n",
       "    </tr>\n",
       "    <tr>\n",
       "      <th>1509</th>\n",
       "      <td>Soma</td>\n",
       "      <td>Bahia Black, batch bra50722.1</td>\n",
       "      <td>1828</td>\n",
       "      <td>2016</td>\n",
       "      <td>0.70</td>\n",
       "      <td>Canada</td>\n",
       "      <td>3.50</td>\n",
       "      <td>Forastero (Parazinho)</td>\n",
       "      <td>Brazil</td>\n",
       "    </tr>\n",
       "    <tr>\n",
       "      <th>1510</th>\n",
       "      <td>Soma</td>\n",
       "      <td>Abstract S. w/ Jamaica nibs,batch abs60323.0</td>\n",
       "      <td>1828</td>\n",
       "      <td>2016</td>\n",
       "      <td>0.75</td>\n",
       "      <td>Canada</td>\n",
       "      <td>3.75</td>\n",
       "      <td>None</td>\n",
       "      <td>Ven.,Ecu.,Peru,Nic.</td>\n",
       "    </tr>\n",
       "    <tr>\n",
       "      <th>1511</th>\n",
       "      <td>Soma</td>\n",
       "      <td>Chuno, San Jose de Bocay, Pantasma R.,B.S.</td>\n",
       "      <td>1828</td>\n",
       "      <td>2016</td>\n",
       "      <td>0.70</td>\n",
       "      <td>Canada</td>\n",
       "      <td>3.75</td>\n",
       "      <td>Trinitario</td>\n",
       "      <td>Nicaragua</td>\n",
       "    </tr>\n",
       "  </tbody>\n",
       "</table>\n",
       "</div>"
      ],
      "text/plain": [
       "     Company               Specific Bean Originor Bar Name   REF  ReviewDate  \\\n",
       "1507    Soma      Oko Caribe, Duarte P., Collab w Chocosol  1820        2016   \n",
       "1508    Soma    Sambirano Valley, Black Science, B-60307.0  1820        2016   \n",
       "1509    Soma                 Bahia Black, batch bra50722.1  1828        2016   \n",
       "1510    Soma  Abstract S. w/ Jamaica nibs,batch abs60323.0  1828        2016   \n",
       "1511    Soma    Chuno, San Jose de Bocay, Pantasma R.,B.S.  1828        2016   \n",
       "\n",
       "      CocoaPercent CompanyLocation  Rating               BeanType  \\\n",
       "1507          0.62          Canada    3.50                   None   \n",
       "1508          0.70          Canada    3.50             Trinitario   \n",
       "1509          0.70          Canada    3.50  Forastero (Parazinho)   \n",
       "1510          0.75          Canada    3.75                   None   \n",
       "1511          0.70          Canada    3.75             Trinitario   \n",
       "\n",
       "         Broad BeanOrigin  \n",
       "1507    Domincan Republic  \n",
       "1508           Madagascar  \n",
       "1509               Brazil  \n",
       "1510  Ven.,Ecu.,Peru,Nic.  \n",
       "1511            Nicaragua  "
      ]
     },
     "execution_count": 16,
     "metadata": {},
     "output_type": "execute_result"
    }
   ],
   "source": [
    "d2=df[df['Company'] == 'Soma']\n",
    "d2.head()"
   ]
  },
  {
   "cell_type": "code",
   "execution_count": 17,
   "metadata": {},
   "outputs": [
    {
     "data": {
      "text/plain": [
       "<seaborn.axisgrid.FacetGrid at 0x256af4b5788>"
      ]
     },
     "execution_count": 17,
     "metadata": {},
     "output_type": "execute_result"
    },
    {
     "data": {
      "image/png": "[encoded data removed]",
      "text/plain": [
       "<Figure size 360x360 with 1 Axes>"
      ]
     },
     "metadata": {
      "needs_background": "light"
     },
     "output_type": "display_data"
    }
   ],
   "source": [
    "#checking rating change over the years \n",
    "sns.relplot(x='ReviewDate', y='Rating', data=df, kind='line', ci=None)"
   ]
  },
  {
   "cell_type": "code",
   "execution_count": 18,
   "metadata": {},
   "outputs": [
    {
     "data": {
      "text/plain": [
       "<seaborn.axisgrid.FacetGrid at 0x256af527048>"
      ]
     },
     "execution_count": 18,
     "metadata": {},
     "output_type": "execute_result"
    },
    {
     "data": {
      "image/png": "[encoded data removed]",
      "text/plain": [
       "<Figure size 360x360 with 1 Axes>"
      ]
     },
     "metadata": {
      "needs_background": "light"
     },
     "output_type": "display_data"
    }
   ],
   "source": [
    "sns.relplot(x='ReviewDate' , y='CocoaPercent', data=d2, kind='line', ci=None)"
   ]
  },
  {
   "cell_type": "code",
   "execution_count": null,
   "metadata": {},
   "outputs": [],
   "source": []
  },
  {
   "cell_type": "code",
   "execution_count": null,
   "metadata": {},
   "outputs": [],
   "source": []
  }
 ],
 "metadata": {
  "kernelspec": {
   "display_name": "Python 3",
   "language": "python",
   "name": "python3"
  },
  "language_info": {
   "codemirror_mode": {
    "name": "ipython",
    "version": 3
   },
   "file_extension": ".py",
   "mimetype": "text/x-python",
   "name": "python",
   "nbconvert_exporter": "python",
   "pygments_lexer": "ipython3",
   "version": "3.7.7"
  }
 },
 "nbformat": 4,
 "nbformat_minor": 4
}
